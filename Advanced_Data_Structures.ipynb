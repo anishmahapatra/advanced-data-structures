{
  "nbformat": 4,
  "nbformat_minor": 0,
  "metadata": {
    "colab": {
      "name": "Advanced Data Structures.ipynb",
      "provenance": [],
      "collapsed_sections": [],
      "authorship_tag": "ABX9TyNpDDWPJhEWKxTLUivsMTMJ",
      "include_colab_link": true
    },
    "kernelspec": {
      "name": "python3",
      "display_name": "Python 3"
    },
    "language_info": {
      "name": "python"
    }
  },
  "cells": [
    {
      "cell_type": "markdown",
      "metadata": {
        "id": "view-in-github",
        "colab_type": "text"
      },
      "source": [
        "<a href=\"https://colab.research.google.com/github/anishmahapatra/advanced-data-structures/blob/main/Advanced_Data_Structures.ipynb\" target=\"_parent\"><img src=\"https://colab.research.google.com/assets/colab-badge.svg\" alt=\"Open In Colab\"/></a>"
      ]
    },
    {
      "cell_type": "markdown",
      "metadata": {
        "id": "DctuZ8toiwfd"
      },
      "source": [
        "# Advanced Data Structures\n",
        "Author: AM, PQ\n",
        "\n",
        "<b>Aim:</b> <br/>The purpose of this notebook is to understand and implement Advanced Data Structures\n"
      ]
    },
    {
      "cell_type": "markdown",
      "metadata": {
        "id": "gB-eOCkGi791"
      },
      "source": [
        "<a name=\"0\"></a>\n",
        "## Table of Contents\n",
        "\n",
        "1 [Heap](#1) <br/>\n",
        "&nbsp;&nbsp;&nbsp;&nbsp;&nbsp;&nbsp;1.1 [Push](#1.1) <br/>\n",
        "&nbsp;&nbsp;&nbsp;&nbsp;&nbsp;&nbsp;1.2 [Pop](#1.2) <br/>\n",
        "&nbsp;&nbsp;&nbsp;&nbsp;&nbsp;&nbsp;1.3 [Heapify](#1.3) <br/>\n",
        "2 [Pythonq Heapq](#2) <br/>\n",
        "&nbsp;&nbsp;&nbsp;&nbsp;&nbsp;&nbsp;2.1 [Max heap](#2.1) <br/>\n",
        "&nbsp;&nbsp;&nbsp;&nbsp;&nbsp;&nbsp;2.2 [Max Heap with more operations](#2.2) <br/>\n",
        "3 [Priority Queue](#3) <br/>\n",
        "&nbsp;&nbsp;&nbsp;&nbsp;&nbsp;&nbsp;3.1 [With heapq](#3.1) <br/>\n",
        "&nbsp;&nbsp;&nbsp;&nbsp;&nbsp;&nbsp;3.2 [With Priority Queue()](#3.2) <br/>\n",
        "&nbsp;&nbsp;&nbsp;&nbsp;&nbsp;&nbsp;3.3 [Hands-on example](#3.3) <br/>"
      ]
    },
    {
      "cell_type": "markdown",
      "metadata": {
        "id": "2G09nX4dkeYt"
      },
      "source": [
        "<a name=\"1\"></a>\n",
        "## 1 Heap\n",
        "Back to [Table of Contents](#0)\n",
        "\n",
        "---\n"
      ]
    },
    {
      "cell_type": "markdown",
      "metadata": {
        "id": "l4Q2e_lw_zIb"
      },
      "source": [
        "<a name=\"1.1\"></a>\n",
        "### 1.1 Push\n",
        "Back to [Table of Contents](#0)"
      ]
    },
    {
      "cell_type": "code",
      "metadata": {
        "id": "3r6Mjm8k_joo"
      },
      "source": [
        "'''\n",
        "Enforce min-heap property, leaf-to-root\n",
        "'''\n",
        "def _float(idx, heap): \n",
        "  while idx // 2: \n",
        "      p = idx // 2\n",
        "      # Violation\n",
        "      if heap[idx] < heap[p]:\n",
        "          heap[idx], heap[p] = heap[p], heap[idx]\n",
        "      else:\n",
        "        break\n",
        "      idx = p \n",
        "  return\n",
        "\n",
        "def push(heap, k):\n",
        "  heap.append(k)\n",
        "  _float(idx = len(heap) - 1, heap=heap)\n"
      ],
      "execution_count": 89,
      "outputs": []
    },
    {
      "cell_type": "code",
      "metadata": {
        "colab": {
          "base_uri": "https://localhost:8080/"
        },
        "id": "n9PC2sNa_jmV",
        "outputId": "0c67b7b8-f410-4e2e-986f-f32e8b2c084b"
      },
      "source": [
        "heap = [None, 6, 7, 12, 10, 15, 17] \n",
        "push(heap, 5)\n",
        "print(heap)"
      ],
      "execution_count": 90,
      "outputs": [
        {
          "output_type": "stream",
          "text": [
            "[None, 5, 7, 6, 10, 15, 17, 12]\n"
          ],
          "name": "stdout"
        }
      ]
    },
    {
      "cell_type": "markdown",
      "metadata": {
        "id": "UjIWIm5UkwsI"
      },
      "source": [
        "<a name=\"1.2\"></a>\n",
        "### 1.2 Pop\n",
        "Back to [Table of Contents](#0)"
      ]
    },
    {
      "cell_type": "code",
      "metadata": {
        "id": "nGQplJVZABBk"
      },
      "source": [
        "def _sink(idx, heap): \n",
        "  size = len(heap)\n",
        "  while 2 * idx < size:\n",
        "    li = 2 * idx\n",
        "    ri = li + 1\n",
        "    mi = idx\n",
        "    if heap[li] < heap[mi]:\n",
        "      mi = li\n",
        "    if ri < size and heap[ri] < heap[mi]:\n",
        "      mi = ri\n",
        "    if mi != idx:\n",
        "        # swap index with mi\n",
        "        heap[idx], heap[mi] = heap[mi], heap[idx]\n",
        "    else:\n",
        "      break\n",
        "    idx = mi\n",
        "\n",
        "def pop(heap):\n",
        "    val = heap[1]\n",
        "    # Move the last item into the root position\n",
        "    heap[1] = heap.pop()\n",
        "    _sink(idx=1, heap=heap)\n",
        "    return val"
      ],
      "execution_count": 91,
      "outputs": []
    },
    {
      "cell_type": "code",
      "metadata": {
        "colab": {
          "base_uri": "https://localhost:8080/"
        },
        "id": "IEy44AKZADZl",
        "outputId": "8dfc1426-320e-49ca-ebd0-415fc28aa292"
      },
      "source": [
        "k = pop(heap)\n",
        "print(k, heap)"
      ],
      "execution_count": 92,
      "outputs": [
        {
          "output_type": "stream",
          "text": [
            "5 [None, 6, 7, 12, 10, 15, 17]\n"
          ],
          "name": "stdout"
        }
      ]
    },
    {
      "cell_type": "markdown",
      "metadata": {
        "id": "DJUCb6LWkwnV"
      },
      "source": [
        "<a name=\"1.3\"></a>\n",
        "### 1.3 Heapify\n",
        "\n",
        "Back to [Table of Contents](#0)"
      ]
    },
    {
      "cell_type": "code",
      "metadata": {
        "id": "V9lcCT3sAH61"
      },
      "source": [
        "def _sink(idx, heap): \n",
        "  size = len(heap)\n",
        "  while 2 * idx < size:\n",
        "    li = 2 * idx\n",
        "    ri = li + 1\n",
        "    mi = idx\n",
        "    if heap[li] < heap[mi]:\n",
        "      mi = li\n",
        "    if ri < size and heap[ri] < heap[mi]:\n",
        "      mi = ri\n",
        "    if mi != idx:\n",
        "        # swap index with mi\n",
        "        heap[idx], heap[mi] = heap[mi], heap[idx]\n",
        "    else:\n",
        "      break\n",
        "    idx = mi\n",
        "\n",
        "def heapify(lst):\n",
        "    heap = [None] + lst\n",
        "    n = len(lst)\n",
        "    for i in range(n//2, 0, -1):\n",
        "      _sink(i, heap)\n",
        "    return heap"
      ],
      "execution_count": 93,
      "outputs": []
    },
    {
      "cell_type": "code",
      "metadata": {
        "colab": {
          "base_uri": "https://localhost:8080/"
        },
        "id": "ctPt2LsYAOL3",
        "outputId": "c32ddc9d-b2c9-40c6-b854-99c2d27fcb7b"
      },
      "source": [
        "a = [21, 1, 45, 78, 3, 5]\n",
        "heapify(a)"
      ],
      "execution_count": 94,
      "outputs": [
        {
          "output_type": "execute_result",
          "data": {
            "text/plain": [
              "[None, 1, 3, 5, 78, 21, 45]"
            ]
          },
          "metadata": {
            "tags": []
          },
          "execution_count": 94
        }
      ]
    },
    {
      "cell_type": "code",
      "metadata": {
        "id": "qkdMpGWaAPyF"
      },
      "source": [
        "def _float(idx, heap): \n",
        "  while idx // 2: \n",
        "      p = idx // 2\n",
        "      # Violation\n",
        "      if heap[idx] < heap[p]:\n",
        "          heap[idx], heap[p] = heap[p], heap[idx]\n",
        "      # else:\n",
        "      #   break\n",
        "      idx = p \n",
        "  return\n",
        "\n",
        "\n",
        "def heapify(lst):\n",
        "    heap = [None] + lst\n",
        "    n = len(lst)\n",
        "    for i in range(n, n//2, -1):\n",
        "      _float(i, heap)\n",
        "    return heap"
      ],
      "execution_count": 95,
      "outputs": []
    },
    {
      "cell_type": "code",
      "metadata": {
        "colab": {
          "base_uri": "https://localhost:8080/"
        },
        "id": "pOO-aH1zARJc",
        "outputId": "7d6f7644-e4bb-4ca8-be86-13ce8c9eb391"
      },
      "source": [
        "a = [21, 1, 45, 78, 3, 5]\n",
        "heapify(a)"
      ],
      "execution_count": 96,
      "outputs": [
        {
          "output_type": "execute_result",
          "data": {
            "text/plain": [
              "[None, 1, 5, 21, 78, 3, 45]"
            ]
          },
          "metadata": {
            "tags": []
          },
          "execution_count": 96
        }
      ]
    },
    {
      "cell_type": "markdown",
      "metadata": {
        "id": "yQC2e4S3kiHK"
      },
      "source": [
        "<a name=\"2\"></a>\n",
        "## 2 Python Heapq\n",
        "Back to [Table of Contents](#0)\n",
        "\n",
        "---\n"
      ]
    },
    {
      "cell_type": "code",
      "metadata": {
        "colab": {
          "base_uri": "https://localhost:8080/"
        },
        "id": "26_2DC-yAZaL",
        "outputId": "63a87f7e-66d3-46e5-87b5-d18a4ba1d880"
      },
      "source": [
        "from heapq import heappush, heappop, heapify\n",
        "h = [21, 1, 45, 78, 3, 5]\n",
        "heapify(h)\n",
        "h"
      ],
      "execution_count": 97,
      "outputs": [
        {
          "output_type": "execute_result",
          "data": {
            "text/plain": [
              "[1, 3, 5, 78, 21, 45]"
            ]
          },
          "metadata": {
            "tags": []
          },
          "execution_count": 97
        }
      ]
    },
    {
      "cell_type": "code",
      "metadata": {
        "colab": {
          "base_uri": "https://localhost:8080/"
        },
        "id": "RBf0hvAmAaAx",
        "outputId": "cab34f40-716f-466b-a33a-8540c07e0173"
      },
      "source": [
        "heappop(h)\n",
        "heappush(h, 15)\n",
        "h"
      ],
      "execution_count": 98,
      "outputs": [
        {
          "output_type": "execute_result",
          "data": {
            "text/plain": [
              "[3, 21, 5, 78, 45, 15]"
            ]
          },
          "metadata": {
            "tags": []
          },
          "execution_count": 98
        }
      ]
    },
    {
      "cell_type": "code",
      "metadata": {
        "id": "6pxUjCqRAepN"
      },
      "source": [
        "from heapq import nlargest, nsmallest\n",
        "h = [21, 1, 45, 78, 3, 5]\n",
        "nl = nlargest(3, h)\n",
        "ns = nsmallest(3, h)"
      ],
      "execution_count": 99,
      "outputs": []
    },
    {
      "cell_type": "code",
      "metadata": {
        "colab": {
          "base_uri": "https://localhost:8080/"
        },
        "id": "QQVCnCS6Aefo",
        "outputId": "e59e719d-84ad-4f23-d680-890b682c9bf6"
      },
      "source": [
        "print(nl)\n",
        "print(ns)"
      ],
      "execution_count": 100,
      "outputs": [
        {
          "output_type": "stream",
          "text": [
            "[78, 45, 21]\n",
            "[1, 3, 5]\n"
          ],
          "name": "stdout"
        }
      ]
    },
    {
      "cell_type": "code",
      "metadata": {
        "colab": {
          "base_uri": "https://localhost:8080/"
        },
        "id": "ojVgk5V9AgsL",
        "outputId": "bca089b7-e2b7-4197-9591-d4f9c75b00bd"
      },
      "source": [
        "# Efficiency\n",
        "import random\n",
        "h = [random.randint(1, 1000) for _ in range(10000)]\n",
        "%time nl = nlargest(3, h)\n",
        "%time ns = nsmallest(3, h)"
      ],
      "execution_count": 101,
      "outputs": [
        {
          "output_type": "stream",
          "text": [
            "CPU times: user 943 µs, sys: 0 ns, total: 943 µs\n",
            "Wall time: 1.01 ms\n",
            "CPU times: user 431 µs, sys: 0 ns, total: 431 µs\n",
            "Wall time: 436 µs\n"
          ],
          "name": "stdout"
        }
      ]
    },
    {
      "cell_type": "code",
      "metadata": {
        "colab": {
          "base_uri": "https://localhost:8080/"
        },
        "id": "03_FbKnhAgnQ",
        "outputId": "14f0c4c4-6236-434e-c8e4-8d9f08712eb6"
      },
      "source": [
        "%time h.sort()\n",
        "%time nl = h[:3]"
      ],
      "execution_count": 102,
      "outputs": [
        {
          "output_type": "stream",
          "text": [
            "CPU times: user 1.8 ms, sys: 0 ns, total: 1.8 ms\n",
            "Wall time: 1.82 ms\n",
            "CPU times: user 6 µs, sys: 1 µs, total: 7 µs\n",
            "Wall time: 11.2 µs\n"
          ],
          "name": "stdout"
        }
      ]
    },
    {
      "cell_type": "code",
      "metadata": {
        "colab": {
          "base_uri": "https://localhost:8080/"
        },
        "id": "XpcopvORAjF6",
        "outputId": "0815f50a-ca6b-4a30-b2e9-0782ebbcfaec"
      },
      "source": [
        "# Merge\n",
        "from heapq import merge\n",
        "a = [1, 3, 5, 21, 45, 78]\n",
        "b = [2, 4, 8, 16]\n",
        "ab = merge(a, b)\n",
        "ab"
      ],
      "execution_count": 103,
      "outputs": [
        {
          "output_type": "execute_result",
          "data": {
            "text/plain": [
              "<generator object merge at 0x7f11a42060d0>"
            ]
          },
          "metadata": {
            "tags": []
          },
          "execution_count": 103
        }
      ]
    },
    {
      "cell_type": "code",
      "metadata": {
        "colab": {
          "base_uri": "https://localhost:8080/"
        },
        "id": "qfpmPd-aAloj",
        "outputId": "a35cc6b2-5eb5-49af-9090-2b5be7f4ab2a"
      },
      "source": [
        "ab_lst = [n for n in ab]\n",
        "ab_lst"
      ],
      "execution_count": 104,
      "outputs": [
        {
          "output_type": "execute_result",
          "data": {
            "text/plain": [
              "[1, 2, 3, 4, 5, 8, 16, 21, 45, 78]"
            ]
          },
          "metadata": {
            "tags": []
          },
          "execution_count": 104
        }
      ]
    },
    {
      "cell_type": "code",
      "metadata": {
        "id": "0Xs2ljAQAlW4"
      },
      "source": [
        "for n in ab:\n",
        "  print(n, end=' ')"
      ],
      "execution_count": 105,
      "outputs": []
    },
    {
      "cell_type": "markdown",
      "metadata": {
        "id": "BDzx6Wx2AqPG"
      },
      "source": [
        "<a name=\"2.1\"></a>\n",
        "### 2.1 Max Heap\n",
        "\n",
        "Back to [Table of Contents](#0)"
      ]
    },
    {
      "cell_type": "code",
      "metadata": {
        "colab": {
          "base_uri": "https://localhost:8080/"
        },
        "id": "y_ajEoA6Ap7Q",
        "outputId": "6fcfc3c3-d35c-4baa-a6b5-3ba2ca8c9fc7"
      },
      "source": [
        "from heapq import _heapify_max\n",
        "h = [21, 1, 45, 78, 3, 5]\n",
        "_heapify_max(h)\n",
        "h"
      ],
      "execution_count": 106,
      "outputs": [
        {
          "output_type": "execute_result",
          "data": {
            "text/plain": [
              "[78, 21, 45, 1, 3, 5]"
            ]
          },
          "metadata": {
            "tags": []
          },
          "execution_count": 106
        }
      ]
    },
    {
      "cell_type": "code",
      "metadata": {
        "colab": {
          "base_uri": "https://localhost:8080/"
        },
        "id": "SZRjVqBiA3kj",
        "outputId": "77b062d1-d16f-4e13-89eb-13eebca41291"
      },
      "source": [
        "from heapq import _heapify_max\n",
        "h = [21, 1, 45, 78, 3, 5]\n",
        "h = [-n for n in h]\n",
        "heapify(h)\n",
        "a = -heappop(h)\n",
        "a"
      ],
      "execution_count": 107,
      "outputs": [
        {
          "output_type": "execute_result",
          "data": {
            "text/plain": [
              "78"
            ]
          },
          "metadata": {
            "tags": []
          },
          "execution_count": 107
        }
      ]
    },
    {
      "cell_type": "markdown",
      "metadata": {
        "id": "OupT3h4OAw33"
      },
      "source": [
        "<a name=\"2.2\"></a>\n",
        "### 2.2 Heap with more operations\n",
        "\n",
        "Back to [Table of Contents](#0)"
      ]
    },
    {
      "cell_type": "markdown",
      "metadata": {
        "id": "a30imffwA_Po"
      },
      "source": [
        "Random access and change of value"
      ]
    },
    {
      "cell_type": "code",
      "metadata": {
        "colab": {
          "base_uri": "https://localhost:8080/"
        },
        "id": "H4GSp33gA2AY",
        "outputId": "18d971cf-31cd-45ce-da80-d7b5524fa7a1"
      },
      "source": [
        "import heapq\n",
        "heap = [[3, 'a'], [10, 'b'], [5,'c'], [8, 'd']]\n",
        "heapify(heap)\n",
        "print(heap)\n",
        "\n",
        "heap[0] = [6, 'a']\n",
        "# Increased value\n",
        "heapq._siftup(heap, 0) \n",
        "print(heap)\n",
        "#Decreased Value\n",
        "heap[2] = [3, 'a']\n",
        "heapq._siftdown(heap, 0, 2)\n",
        "print(heap)"
      ],
      "execution_count": 108,
      "outputs": [
        {
          "output_type": "stream",
          "text": [
            "[[3, 'a'], [8, 'd'], [5, 'c'], [10, 'b']]\n",
            "[[5, 'c'], [8, 'd'], [6, 'a'], [10, 'b']]\n",
            "[[3, 'a'], [8, 'd'], [5, 'c'], [10, 'b']]\n"
          ],
          "name": "stdout"
        }
      ]
    },
    {
      "cell_type": "code",
      "metadata": {
        "colab": {
          "base_uri": "https://localhost:8080/"
        },
        "id": "DGkC1f0FBBiy",
        "outputId": "c5468c2a-36de-4962-ed1e-037b338841d0"
      },
      "source": [
        "# tasks with same priorities\n",
        "h = [[3, 'e'], [3, 'd'], [10, 'c'], [5,'b'], [3, 'a']]\n",
        "heapify(h)\n",
        "print(h)"
      ],
      "execution_count": 109,
      "outputs": [
        {
          "output_type": "stream",
          "text": [
            "[[3, 'a'], [3, 'd'], [10, 'c'], [5, 'b'], [3, 'e']]\n"
          ],
          "name": "stdout"
        }
      ]
    },
    {
      "cell_type": "markdown",
      "metadata": {
        "id": "CeKEU1QXkjTN"
      },
      "source": [
        "<a name=\"3\"></a>\n",
        "## Priority Queue\n",
        "Back to [Table of Contents](#0)\n",
        "\n",
        "---\n"
      ]
    },
    {
      "cell_type": "code",
      "metadata": {
        "id": "QYXH2YibBWu5"
      },
      "source": [
        "from dataclasses import dataclass, field\n",
        "from typing import Any\n",
        "\n",
        "@dataclass(order=True)\n",
        "class PrioritizedItem:\n",
        "    priority: int\n",
        "    item: Any=field(compare=False)"
      ],
      "execution_count": 110,
      "outputs": []
    },
    {
      "cell_type": "code",
      "metadata": {
        "colab": {
          "base_uri": "https://localhost:8080/"
        },
        "id": "HkOVmq8cBXau",
        "outputId": "15c1786b-252b-415c-f5b1-2963faf5d98e"
      },
      "source": [
        "# it does not seem working\n",
        "h = [PrioritizedItem(3, 'c'), PrioritizedItem(3, 'a'), PrioritizedItem(10, 'b'), PrioritizedItem(5,'c'), PrioritizedItem(3, 'b')]\n",
        "heapify(h)\n",
        "print(h)"
      ],
      "execution_count": 111,
      "outputs": [
        {
          "output_type": "stream",
          "text": [
            "[PrioritizedItem(priority=3, item='b'), PrioritizedItem(priority=3, item='a'), PrioritizedItem(priority=10, item='b'), PrioritizedItem(priority=5, item='c'), PrioritizedItem(priority=3, item='c')]\n"
          ],
          "name": "stdout"
        }
      ]
    },
    {
      "cell_type": "markdown",
      "metadata": {
        "id": "4ZUdFdiVBGS5"
      },
      "source": [
        "<a name=\"3.1\"></a>\n",
        "### 3.1 With heapq\n",
        "\n",
        "Back to [Table of Contents](#0)"
      ]
    },
    {
      "cell_type": "code",
      "metadata": {
        "id": "DIMmXFHliesS",
        "colab": {
          "base_uri": "https://localhost:8080/"
        },
        "outputId": "5d5ba663-bc78-4cb3-928a-8e8241743396"
      },
      "source": [
        "# Add counter as a tie-breaker so that sort stability is kept\n",
        "import itertools\n",
        "counter = itertools.count()\n",
        "h = [[3, 'e'], [3, 'd'], [10, 'c'], [5,'b'], [3, 'a']]\n",
        "h = [[p, next(counter), t] for p, t in h]\n",
        "print(h)\n",
        "heapify(h)\n",
        "h"
      ],
      "execution_count": 112,
      "outputs": [
        {
          "output_type": "stream",
          "text": [
            "[[3, 0, 'e'], [3, 1, 'd'], [10, 2, 'c'], [5, 3, 'b'], [3, 4, 'a']]\n"
          ],
          "name": "stdout"
        },
        {
          "output_type": "execute_result",
          "data": {
            "text/plain": [
              "[[3, 0, 'e'], [3, 1, 'd'], [10, 2, 'c'], [5, 3, 'b'], [3, 4, 'a']]"
            ]
          },
          "metadata": {
            "tags": []
          },
          "execution_count": 112
        }
      ]
    },
    {
      "cell_type": "code",
      "metadata": {
        "colab": {
          "base_uri": "https://localhost:8080/"
        },
        "id": "DDtLsJ-vBdba",
        "outputId": "2d604ffa-cc7f-4634-f4dc-29c35e226a92"
      },
      "source": [
        "# Removed mark\n",
        "REMOVED = '<removed-task>'\n",
        "# Remove task 'd'\n",
        "h[1][2] = REMOVED\n",
        "# Updata task 'b''s proprity to 14\n",
        "h[3][2] = REMOVED\n",
        "heappush(h, [14, next(counter), 'b'])\n",
        "vh = []\n",
        "while h:\n",
        "  item = heappop(h)\n",
        "  if item[2] != REMOVED:\n",
        "    vh.append(item)\n",
        "vh\n",
        "  "
      ],
      "execution_count": 113,
      "outputs": [
        {
          "output_type": "execute_result",
          "data": {
            "text/plain": [
              "[[3, 0, 'e'], [3, 4, 'a'], [10, 2, 'c'], [14, 5, 'b']]"
            ]
          },
          "metadata": {
            "tags": []
          },
          "execution_count": 113
        }
      ]
    },
    {
      "cell_type": "code",
      "metadata": {
        "colab": {
          "base_uri": "https://localhost:8080/"
        },
        "id": "HfVnaPkdBfov",
        "outputId": "af706387-fd8c-4956-97c2-84ef0d3a0340"
      },
      "source": [
        "# A heap associated with entry_finder\n",
        "counter = itertools.count()\n",
        "entry_finder = {}\n",
        "h = [[3, 'e'], [3, 'd'], [10, 'c'], [5,'b'], [3, 'a']]\n",
        "heap = []\n",
        "for p, t in h:\n",
        "  item = [p, next(counter), t]\n",
        "  heap.append(item)\n",
        "  entry_finder[t] = item\n",
        "heapify(heap)\n",
        "print(heap)\n",
        "print(entry_finder)"
      ],
      "execution_count": 114,
      "outputs": [
        {
          "output_type": "stream",
          "text": [
            "[[3, 0, 'e'], [3, 1, 'd'], [10, 2, 'c'], [5, 3, 'b'], [3, 4, 'a']]\n",
            "{'e': [3, 0, 'e'], 'd': [3, 1, 'd'], 'c': [10, 2, 'c'], 'b': [5, 3, 'b'], 'a': [3, 4, 'a']}\n"
          ],
          "name": "stdout"
        }
      ]
    },
    {
      "cell_type": "code",
      "metadata": {
        "colab": {
          "base_uri": "https://localhost:8080/"
        },
        "id": "k7ooIXI4Bfmp",
        "outputId": "a0a4bb22-3b36-4dc2-f861-47eec6e0446a"
      },
      "source": [
        "# With entry_finder\n",
        "REMOVED = '<removed-task>'\n",
        "def remove_task(task_id):\n",
        "  if task_id in entry_finder:\n",
        "    entry_finder[task_id][2] = REMOVED\n",
        "    entry_finder.pop(task_id) # delete from the dictionary\n",
        "  return\n",
        "\n",
        "# Remove task 'd'\n",
        "remove_task('d')\n",
        "# Updata task 'b''s priority to 14\n",
        "remove_task('b')\n",
        "new_item = [14, next(counter), 'b']\n",
        "heappush(heap, new_item)\n",
        "entry_finder['b'] = new_item\n",
        "\n",
        "print(heap)\n",
        "vh = []\n",
        "while heap:\n",
        "  item = heappop(heap)\n",
        "  if item[2] != REMOVED:\n",
        "    vh.append(item)\n",
        "vh"
      ],
      "execution_count": 115,
      "outputs": [
        {
          "output_type": "stream",
          "text": [
            "[[3, 0, 'e'], [3, 1, '<removed-task>'], [10, 2, 'c'], [5, 3, '<removed-task>'], [3, 4, 'a'], [14, 5, 'b']]\n"
          ],
          "name": "stdout"
        },
        {
          "output_type": "execute_result",
          "data": {
            "text/plain": [
              "[[3, 0, 'e'], [3, 4, 'a'], [10, 2, 'c'], [14, 5, 'b']]"
            ]
          },
          "metadata": {
            "tags": []
          },
          "execution_count": 115
        }
      ]
    },
    {
      "cell_type": "code",
      "metadata": {
        "id": "1uICvAWtBflD"
      },
      "source": [
        "# A heapq based priority queue class\n",
        "from heapq import heappush, heappop, heapify\n",
        "from typing import List\n",
        "import itertools\n",
        "class PriorityQueue:\n",
        "  def __init__(self, items:List[List]=[]):\n",
        "      self.heap = []\n",
        "      self.entry_finder = {} \n",
        "      self.REMOVED = '<removed-task>'\n",
        "      self.counter = itertools.count()  \n",
        "      # Add items to heap\n",
        "      for p, t in items:\n",
        "        item = [p, next(self.counter), t]\n",
        "        self.entry_finder[t] = item\n",
        "        self.heap.append(item)\n",
        "      heapify(self.heap)\n",
        "        \n",
        "  def add_task(self, task, priority=0):\n",
        "      'Add a new task or update the priority of an existing task'\n",
        "      if task in self.entry_finder:\n",
        "          self.remove_task(task)\n",
        "      count = next(self.counter)\n",
        "      item = [priority, count, task]\n",
        "      self.entry_finder[task] = item\n",
        "      heappush(self.heap, item)\n",
        "      \n",
        "  def remove_task(self, task):\n",
        "      'Mark an existing task as REMOVED.  Raise KeyError if not found.'\n",
        "      entry = self.entry_finder.pop(task)\n",
        "      entry[-1] = self.REMOVED\n",
        "\n",
        "  def pop_task(self):\n",
        "      'Remove and return the lowest priority task. Raise KeyError if empty.'\n",
        "      while self.heap:\n",
        "          priority, count, task = heappop(self.heap)\n",
        "          if task is not self.REMOVED:\n",
        "              del self.entry_finder[task]\n",
        "              return task\n",
        "      raise KeyError('pop from an empty priority queue')"
      ],
      "execution_count": 116,
      "outputs": []
    },
    {
      "cell_type": "code",
      "metadata": {
        "colab": {
          "base_uri": "https://localhost:8080/"
        },
        "id": "UmZGIF4vBfgU",
        "outputId": "347ca0e2-1adc-4751-daf5-8646ded9e261"
      },
      "source": [
        "pq = PriorityQueue([[3, 'e'], [3, 'd'], [10, 'c'], [5,'b'], [3, 'a']])\n",
        "pq.remove_task('d')\n",
        "pq.add_task('b', 14)\n",
        "vh = []\n",
        "print(pq.heap)\n",
        "while pq.heap:\n",
        "  task_id = pq.pop_task()\n",
        "  vh.append(task_id)\n",
        "print(vh)"
      ],
      "execution_count": 117,
      "outputs": [
        {
          "output_type": "stream",
          "text": [
            "[[3, 0, 'e'], [3, 1, '<removed-task>'], [10, 2, 'c'], [5, 3, '<removed-task>'], [3, 4, 'a'], [14, 5, 'b']]\n",
            "['e', 'a', 'c', 'b']\n"
          ],
          "name": "stdout"
        }
      ]
    },
    {
      "cell_type": "markdown",
      "metadata": {
        "id": "Unm-WQg1BM7r"
      },
      "source": [
        "<a name=\"3.2\"></a>\n",
        "### 3.2 With PriorityQueue()\n",
        "\n",
        "Back to [Table of Contents](#0)"
      ]
    },
    {
      "cell_type": "code",
      "metadata": {
        "colab": {
          "base_uri": "https://localhost:8080/"
        },
        "id": "ZkE4YYLoBEhs",
        "outputId": "63d52292-868d-486a-fa22-b2adad3ad470"
      },
      "source": [
        "from queue import PriorityQueue\n",
        "data = [[3, 'e'], [3, 'd'], [10, 'c'], [5,'b'], [3, 'a']]\n",
        "pq = PriorityQueue()\n",
        "for d in data:\n",
        "  pq.put(d)\n",
        "  \n",
        "process_order = []\n",
        "while not pq.empty():\n",
        "  process_order.append(pq.get())\n",
        "process_order"
      ],
      "execution_count": 118,
      "outputs": [
        {
          "output_type": "execute_result",
          "data": {
            "text/plain": [
              "[[3, 'a'], [3, 'd'], [3, 'e'], [5, 'b'], [10, 'c']]"
            ]
          },
          "metadata": {
            "tags": []
          },
          "execution_count": 118
        }
      ]
    },
    {
      "cell_type": "code",
      "metadata": {
        "id": "i43X6RauBocl"
      },
      "source": [
        "# import itertools\n",
        "# from dataclasses import dataclass, field\n",
        "\n",
        "# @dataclass(repr=True, order=True)\n",
        "# class Job:\n",
        "#   counter = itertools.count()\n",
        "#   priority: float\n",
        "#   task: str = field(compare=False)\n",
        "#   count: int = next(Job.counter)\n",
        "  \n",
        "\n",
        "#   # def __init__(self, priority, task):\n",
        "#   #   self.priority = priority\n",
        "#   #   self.count = next(Job.counter)\n",
        "#   #   self.task = task\n",
        "\n",
        "#   # def __lt__(self, other): \n",
        "#   #     try:\n",
        "#   #         return [self.priority, self.count] < [other.priority, other.count]\n",
        "#   #     except AttributeError:\n",
        "#   #         return NotImplemented\n",
        "#   # def __eq__(self, other): \n",
        "#   #     try:\n",
        "#   #         return [self.priority, self.count] == [other.priority, other.count]\n",
        "#   #     except AttributeError:\n",
        "#   #         return NotImplemented\n",
        "#   # def __cmp__(self, other):\n",
        "#   #   return cmp([self.priority, self.count], [other.priority, other.count])\n",
        "    "
      ],
      "execution_count": 119,
      "outputs": []
    },
    {
      "cell_type": "code",
      "metadata": {
        "colab": {
          "base_uri": "https://localhost:8080/"
        },
        "id": "C2tigdwMBoaE",
        "outputId": "42847c99-a123-4c0f-9f98-364ebf7d325d"
      },
      "source": [
        "@dataclass\n",
        "class C:\n",
        "    x: int\n",
        "    y: int = field(repr=False)\n",
        "    z: int = field(repr=False, default=10)\n",
        "    t: int = 20\n",
        "\n",
        "a = C(1, 2)\n",
        "print(a)"
      ],
      "execution_count": 120,
      "outputs": [
        {
          "output_type": "stream",
          "text": [
            "C(x=1, t=20)\n"
          ],
          "name": "stdout"
        }
      ]
    },
    {
      "cell_type": "code",
      "metadata": {
        "id": "lfWDF5q5BoXH"
      },
      "source": [
        "# data = [[3, 'e'], [3, 'd'], [10, 'c'], [5,'b'], [3, 'a']]\n",
        "# pq = PriorityQueue()\n",
        "# for p, t in data:\n",
        "#   pq.put(Job(p, t))\n",
        "  \n",
        "# process_order = []\n",
        "# while not pq.empty():\n",
        "#   process_order.append(pq.get())\n",
        "# process_order"
      ],
      "execution_count": 121,
      "outputs": []
    },
    {
      "cell_type": "markdown",
      "metadata": {
        "id": "bGG4qghGBR0U"
      },
      "source": [
        "<a name=\"3.3\"></a>\n",
        "### 3.3 Hands-on example\n",
        "\n",
        "Back to [Table of Contents](#0)"
      ]
    },
    {
      "cell_type": "code",
      "metadata": {
        "id": "S7zbPJU5BEe9"
      },
      "source": [
        "nums = [1,1,1,2,2,3]\n",
        "k = 2"
      ],
      "execution_count": 122,
      "outputs": []
    },
    {
      "cell_type": "code",
      "metadata": {
        "colab": {
          "base_uri": "https://localhost:8080/"
        },
        "id": "_-22vHm1BEck",
        "outputId": "3656358e-e85d-4e35-861c-820dc85694a7"
      },
      "source": [
        "from collections import Counter\n",
        "topk = [x for x, _ in Counter(nums).most_common(k)]\n",
        "print(topk)"
      ],
      "execution_count": 123,
      "outputs": [
        {
          "output_type": "stream",
          "text": [
            "[1, 2]\n"
          ],
          "name": "stdout"
        }
      ]
    },
    {
      "cell_type": "code",
      "metadata": {
        "colab": {
          "base_uri": "https://localhost:8080/"
        },
        "id": "ZQyW8zMsBEZz",
        "outputId": "ff7fff6d-346a-44fb-e3a0-4b4535913c89"
      },
      "source": [
        "import heapq\n",
        "count = Counter(nums)\n",
        "# Use the value to compare with\n",
        "topk = heapq.nlargest(k, count.keys(), key=lambda x: count[x])\n",
        "topk"
      ],
      "execution_count": 124,
      "outputs": [
        {
          "output_type": "execute_result",
          "data": {
            "text/plain": [
              "[1, 2]"
            ]
          },
          "metadata": {
            "tags": []
          },
          "execution_count": 124
        }
      ]
    },
    {
      "cell_type": "code",
      "metadata": {
        "colab": {
          "base_uri": "https://localhost:8080/"
        },
        "id": "rkC-DgKbBES4",
        "outputId": "10c6c65a-4c97-4264-addf-fc54570f928d"
      },
      "source": [
        "from  queue  import  PriorityQueue\n",
        "count = Counter(nums)\n",
        "pq = PriorityQueue()\n",
        "for key, c in count.items():\n",
        "  pq.put((-c, key))\n",
        "\n",
        "topk =  [pq.get()[1] for i in range(k)]\n",
        "topk\n"
      ],
      "execution_count": 125,
      "outputs": [
        {
          "output_type": "execute_result",
          "data": {
            "text/plain": [
              "[1, 2]"
            ]
          },
          "metadata": {
            "tags": []
          },
          "execution_count": 125
        }
      ]
    }
  ]
}