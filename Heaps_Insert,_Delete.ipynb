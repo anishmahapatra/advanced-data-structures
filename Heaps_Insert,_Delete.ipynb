{
  "nbformat": 4,
  "nbformat_minor": 0,
  "metadata": {
    "colab": {
      "name": "Heaps - Insert, Delete.ipynb",
      "provenance": [],
      "collapsed_sections": [],
      "authorship_tag": "ABX9TyOzMMLT0vDbfLWatYSXGq2d",
      "include_colab_link": true
    },
    "kernelspec": {
      "name": "python3",
      "display_name": "Python 3"
    },
    "language_info": {
      "name": "python"
    }
  },
  "cells": [
    {
      "cell_type": "markdown",
      "metadata": {
        "id": "view-in-github",
        "colab_type": "text"
      },
      "source": [
        "<a href=\"https://colab.research.google.com/github/anishmahapatra/advanced-data-structures/blob/main/Heaps_Insert%2C_Delete.ipynb\" target=\"_parent\"><img src=\"https://colab.research.google.com/assets/colab-badge.svg\" alt=\"Open In Colab\"/></a>"
      ]
    },
    {
      "cell_type": "markdown",
      "metadata": {
        "id": "DctuZ8toiwfd"
      },
      "source": [
        "# Heaps - Insert, Delete \n",
        "Author: AM, PQ\n",
        "\n",
        "<b>Aim:</b> <br/>The purpose of this notebook is to understand and implement Advanced Data Structures\n"
      ]
    },
    {
      "cell_type": "markdown",
      "metadata": {
        "id": "gB-eOCkGi791"
      },
      "source": [
        "<a name=\"0\"></a>\n",
        "## Table of Contents\n",
        "\n",
        "1 [Heap](#1) <br/>\n",
        "&nbsp;&nbsp;&nbsp;&nbsp;&nbsp;&nbsp;1.1 [Push](#1.1) <br/>\n",
        "&nbsp;&nbsp;&nbsp;&nbsp;&nbsp;&nbsp;1.2 [Pop](#1.2) <br/>"
      ]
    },
    {
      "cell_type": "markdown",
      "metadata": {
        "id": "2G09nX4dkeYt"
      },
      "source": [
        "<a name=\"1\"></a>\n",
        "## 1 Heap\n",
        "Back to [Table of Contents](#0)\n",
        "\n",
        "---\n"
      ]
    },
    {
      "cell_type": "markdown",
      "metadata": {
        "id": "l4Q2e_lw_zIb"
      },
      "source": [
        "<a name=\"1.1\"></a>\n",
        "### 1.1 Push\n",
        "Back to [Table of Contents](#0)"
      ]
    },
    {
      "cell_type": "markdown",
      "metadata": {
        "id": "FJOOvVQ1GzT5"
      },
      "source": [
        "Max Heap"
      ]
    },
    {
      "cell_type": "code",
      "metadata": {
        "id": "bCAXy6blFLW7"
      },
      "source": [
        "'''\n",
        "Enforce Max-Heap property, leaf-to-root\n",
        "'''\n",
        "def _float(idx, heap): \n",
        "  while idx // 2: \n",
        "      p = idx // 2\n",
        "      # Violation\n",
        "      if heap[idx] > heap[p]:                     # For Max Heap\n",
        "          heap[idx], heap[p] = heap[p], heap[idx]\n",
        "      else:\n",
        "        break\n",
        "      idx = p \n",
        "  return\n",
        "\n",
        "def pushMax(heap, k):\n",
        "  heap.append(k)\n",
        "  _float(idx = len(heap) - 1, heap=heap)\n"
      ],
      "execution_count": null,
      "outputs": []
    },
    {
      "cell_type": "code",
      "metadata": {
        "colab": {
          "base_uri": "https://localhost:8080/"
        },
        "id": "n9PC2sNa_jmV",
        "outputId": "7ef7b642-566b-4999-87dc-860d64df2efa"
      },
      "source": [
        "maxHeap = [None, 70, 50, 40, 45, 35, 39, 16, 10, 9] \n",
        "pushMax(maxHeap, 60)\n",
        "print(maxHeap)"
      ],
      "execution_count": null,
      "outputs": [
        {
          "output_type": "stream",
          "text": [
            "[None, 70, 60, 40, 45, 50, 39, 16, 10, 9, 35]\n"
          ],
          "name": "stdout"
        }
      ]
    },
    {
      "cell_type": "markdown",
      "metadata": {
        "id": "Zyfip94MG256"
      },
      "source": [
        "Min Heap"
      ]
    },
    {
      "cell_type": "code",
      "metadata": {
        "id": "xgMyVZKeGQeG"
      },
      "source": [
        "'''\n",
        "Enforce Min-Heap property, leaf-to-root\n",
        "'''\n",
        "def _float(idx, heap): \n",
        "  while idx // 2: \n",
        "      p = idx // 2\n",
        "      # Violation\n",
        "      if heap[idx] < heap[p]:                     # For Min Heap\n",
        "          heap[idx], heap[p] = heap[p], heap[idx]\n",
        "      else:\n",
        "        break\n",
        "      idx = p \n",
        "  return\n",
        "\n",
        "def pushMin(heap, k):\n",
        "  heap.append(k)\n",
        "  _float(idx = len(heap) - 1, heap=heap)\n"
      ],
      "execution_count": null,
      "outputs": []
    },
    {
      "cell_type": "code",
      "metadata": {
        "colab": {
          "base_uri": "https://localhost:8080/"
        },
        "id": "quuRCBx2GXQd",
        "outputId": "48b99139-59c0-4a11-d23d-89a32d2bbc80"
      },
      "source": [
        "minHeap = [None, 6, 7, 12, 10, 15, 17] \n",
        "pushMin(minHeap, 5)\n",
        "print(minHeap)"
      ],
      "execution_count": null,
      "outputs": [
        {
          "output_type": "stream",
          "text": [
            "[None, 5, 7, 6, 10, 15, 17, 12]\n"
          ],
          "name": "stdout"
        }
      ]
    },
    {
      "cell_type": "markdown",
      "metadata": {
        "id": "UjIWIm5UkwsI"
      },
      "source": [
        "<a name=\"1.2\"></a>\n",
        "### 1.2 Pop\n",
        "Back to [Table of Contents](#0)"
      ]
    },
    {
      "cell_type": "markdown",
      "metadata": {
        "id": "ihLcjl-qMC0h"
      },
      "source": [
        "Pop - Min Heap"
      ]
    },
    {
      "cell_type": "code",
      "metadata": {
        "id": "nGQplJVZABBk"
      },
      "source": [
        "def _sink(idx, heap): \n",
        "  size = len(heap)\n",
        "  while 2 * idx < size:\n",
        "    li = 2 * idx\n",
        "    ri = li + 1\n",
        "    mi = idx\n",
        "    if heap[li] < heap[mi]:\n",
        "      mi = li\n",
        "    if ri < size and heap[ri] < heap[mi]:\n",
        "      mi = ri\n",
        "    if mi != idx:\n",
        "        # swap index with mi\n",
        "        heap[idx], heap[mi] = heap[mi], heap[idx]\n",
        "    else:\n",
        "      break\n",
        "    idx = mi\n",
        "\n",
        "def pop(heap):\n",
        "    val = heap[1]\n",
        "    # Move the last item into the root position\n",
        "    heap[1] = heap.pop()\n",
        "    _sink(idx=1, heap=heap)\n",
        "    return val"
      ],
      "execution_count": null,
      "outputs": []
    },
    {
      "cell_type": "code",
      "metadata": {
        "colab": {
          "base_uri": "https://localhost:8080/"
        },
        "id": "WpMEq5yOJdwf",
        "outputId": "b7be8bdf-dfe7-40dd-c6c7-f908a82cff4c"
      },
      "source": [
        "minHeap = [None, 6, 7, 12, 10, 15, 17] \n",
        "pushMin(minHeap, 5)\n",
        "print(minHeap)"
      ],
      "execution_count": null,
      "outputs": [
        {
          "output_type": "stream",
          "text": [
            "[None, 5, 7, 6, 10, 15, 17, 12]\n"
          ],
          "name": "stdout"
        }
      ]
    },
    {
      "cell_type": "code",
      "metadata": {
        "colab": {
          "base_uri": "https://localhost:8080/"
        },
        "id": "IEy44AKZADZl",
        "outputId": "fd58cb59-b3e9-4dad-800d-bde33bd0a8e1"
      },
      "source": [
        "k = pop(minHeap)\n",
        "print(k, minHeap)"
      ],
      "execution_count": null,
      "outputs": [
        {
          "output_type": "stream",
          "text": [
            "5 [None, 6, 7, 17, 10, 15, 12]\n"
          ],
          "name": "stdout"
        }
      ]
    }
  ]
}